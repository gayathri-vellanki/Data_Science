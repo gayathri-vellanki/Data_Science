{
 "cells": [
  {
   "cell_type": "code",
   "execution_count": 1,
   "id": "cc56678b",
   "metadata": {},
   "outputs": [],
   "source": [
    "A=\"https://www.lakeheadu.ca/programs/undergraduate-programs/computer-science/node/1110\"\n",
    "B=\"https://www.lakeheadu.ca/programs/undergraduate-programs/\"\n",
    "C=\"Undergraduate Program\"\n",
    "D=\"Computer Science\""
   ]
  },
  {
   "cell_type": "code",
   "execution_count": 2,
   "id": "4ea38887",
   "metadata": {},
   "outputs": [],
   "source": [
    "import requests\n",
    "import csv\n",
    "from bs4 import BeautifulSoup"
   ]
  },
  {
   "cell_type": "code",
   "execution_count": 3,
   "id": "109fd6df",
   "metadata": {},
   "outputs": [
    {
     "name": "stdout",
     "output_type": "stream",
     "text": [
      "<Response [200]>\n"
     ]
    }
   ],
   "source": [
    "response=requests.get(A)\n",
    "print(response)"
   ]
  },
  {
   "cell_type": "code",
   "execution_count": 4,
   "id": "40ae8a1f",
   "metadata": {},
   "outputs": [],
   "source": [
    "if response.status_code==200:\n",
    "    soup=BeautifulSoup(response.text,'html.parser')"
   ]
  },
  {
   "cell_type": "code",
   "execution_count": 5,
   "id": "2709d069",
   "metadata": {},
   "outputs": [
    {
     "name": "stdout",
     "output_type": "stream",
     "text": [
      "[<title>Computer Science | Lakehead University</title>]\n"
     ]
    }
   ],
   "source": [
    "if response.status_code==200:\n",
    "    soup=BeautifulSoup(response.text,'html.parser')\n",
    "    strip=soup.find_all('title')\n",
    "    print(strip)\n",
    "    h=strip"
   ]
  },
  {
   "cell_type": "code",
   "execution_count": 6,
   "id": "66de3ffd",
   "metadata": {},
   "outputs": [
    {
     "name": "stdout",
     "output_type": "stream",
     "text": [
      "Computer Science\n"
     ]
    }
   ],
   "source": [
    "if response.status_code==200:\n",
    "    soup=BeautifulSoup(response.text,'html.parser')\n",
    "    st=soup.find_all('div',class_=\"two-third gutt\")\n",
    "    for sts in st:\n",
    "        hd=sts.find('h1')\n",
    "        print(hd.text)\n",
    "        cs=hd.text"
   ]
  },
  {
   "cell_type": "code",
   "execution_count": 7,
   "id": "b3df0eb7",
   "metadata": {},
   "outputs": [
    {
     "name": "stdout",
     "output_type": "stream",
     "text": [
      "Computer science plays a leading role in modern society, shaping our abilities and our future. From streaming music to planning a mission to Mars, the application of computer science offers innovative approaches to new challenges.\n",
      "To determine your general admission requirements, select one of the definitions below:\n"
     ]
    }
   ],
   "source": [
    "if response.status_code==200:\n",
    "    soup=BeautifulSoup(response.text,'html.parser')\n",
    "    st=soup.find_all('div',class_=\"field field-name-body field-type-text-with-summary field-label-hidden\")\n",
    "    for sts in st:\n",
    "        lit=sts.find('p')\n",
    "        print(lit.text)\n",
    "        z=lit.text"
   ]
  },
  {
   "cell_type": "code",
   "execution_count": 8,
   "id": "b78a2136",
   "metadata": {},
   "outputs": [
    {
     "name": "stdout",
     "output_type": "stream",
     "text": [
      "Winter 2024 (January)\n",
      "Fall 2024 (September)\n"
     ]
    }
   ],
   "source": [
    "if response.status_code==200:\n",
    "    soup=BeautifulSoup(response.text,'html.parser')\n",
    "    strip=soup.find_all('div',class_=\"availability\")\n",
    "    for strips in strip:\n",
    "        link=strips.find('p')\n",
    "        print(link.text)\n",
    "        g=link.text"
   ]
  },
  {
   "cell_type": "code",
   "execution_count": 9,
   "id": "4c9814b4",
   "metadata": {},
   "outputs": [
    {
     "name": "stdout",
     "output_type": "stream",
     "text": [
      "Thunder Bay, Orillia\n"
     ]
    }
   ],
   "source": [
    "if response.status_code==200:\n",
    "    soup=BeautifulSoup(response.text,'html.parser')\n",
    "    strip5=soup.find_all('div',class_=\"textformatter-list\")\n",
    "    for strips in strip5:\n",
    "        print(strips.text)\n",
    "        t=strips.text"
   ]
  },
  {
   "cell_type": "code",
   "execution_count": 80,
   "id": "ecd4a836",
   "metadata": {},
   "outputs": [
    {
     "name": "stdout",
     "output_type": "stream",
     "text": [
      "Students\n",
      "Undergraduate Programs\n",
      "Programs\n",
      "Undergraduate Programs\n"
     ]
    }
   ],
   "source": [
    "if response.status_code==200:\n",
    "    soup=BeautifulSoup(response.text,'html.parser')\n",
    "    strip=soup.find_all('ul',class_=\"menu\")\n",
    "    for strips in strip:\n",
    "        link=strips.find('a')\n",
    "        print(link.text)"
   ]
  },
  {
   "cell_type": "code",
   "execution_count": 81,
   "id": "575f8773",
   "metadata": {},
   "outputs": [
    {
     "name": "stdout",
     "output_type": "stream",
     "text": [
      "$7,052.25\n",
      "$6,943.60\n",
      "$6,903.04\n",
      "$6,386.03\n",
      "$29,567.74\n",
      "$29,101.59\n",
      "$29,101.59\n",
      "$28,305.92\n",
      "$7,094.83\n",
      "$6,986.18\n",
      "$6,945.62\n",
      "$6,428.61\n",
      "$29,610.32\n",
      "$29,144.17\n",
      "$28,348.50\n",
      "$28,348.50\n",
      "$7,383.95\n",
      "$7,275.30\n",
      "$7,234.74\n",
      "$6,717.73\n",
      "$29,899.44\n",
      "$29,433.29\n",
      "$29,433.29\n",
      "$28,637.62\n"
     ]
    }
   ],
   "source": [
    "lst=[]\n",
    "if response.status_code==200:\n",
    "    soup=BeautifulSoup(response.text,'html.parser')\n",
    "    strip=soup.find_all('div',class_=\"field field-name-field-fees-total field-type-computed field-label-hidden\")\n",
    "    for strips in strip:\n",
    "        link=strips.find('div',class_=\"field-items\")\n",
    "        for links in link:\n",
    "            k=link.text\n",
    "            print(k)"
   ]
  },
  {
   "cell_type": "code",
   "execution_count": 85,
   "id": "563585bd",
   "metadata": {},
   "outputs": [],
   "source": [
    "data=[\n",
    "\n",
    "[A],\n",
    "\n",
    "[B],\n",
    "\n",
    "[C],\n",
    "\n",
    "[D],\n",
    "\n",
    "[cs] or None,\n",
    "\n",
    "[h] or None,\n",
    "\n",
    "[t] or None,\n",
    "\n",
    "[g] or None,\n",
    "\n",
    "[z] or None,\n",
    "\n",
    "[k] or None\n",
    "]\n",
    "\n",
    "file=r\"gayathri.csv\"\n",
    "\n",
    "max_length=max(len(row) for row in data)\n",
    "padded_data=[ row+['']*(max_length-len(row)) for row in data]\n",
    "transposed_data=list(map(list, zip(*padded_data)))\n",
    "with open(file,mode='a', newline=\"\",encoding='utf-8') as file:\n",
    "    writer=csv.writer(file)\n",
    "    writer.writerows (transposed_data)"
   ]
  },
  {
   "cell_type": "code",
   "execution_count": null,
   "id": "51e1c207",
   "metadata": {},
   "outputs": [],
   "source": []
  }
 ],
 "metadata": {
  "kernelspec": {
   "display_name": "Python 3 (ipykernel)",
   "language": "python",
   "name": "python3"
  },
  "language_info": {
   "codemirror_mode": {
    "name": "ipython",
    "version": 3
   },
   "file_extension": ".py",
   "mimetype": "text/x-python",
   "name": "python",
   "nbconvert_exporter": "python",
   "pygments_lexer": "ipython3",
   "version": "3.11.5"
  }
 },
 "nbformat": 4,
 "nbformat_minor": 5
}
