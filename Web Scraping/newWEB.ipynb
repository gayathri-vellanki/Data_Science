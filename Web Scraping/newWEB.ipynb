{
 "cells": [
  {
   "cell_type": "code",
   "execution_count": 1,
   "id": "55e96f45",
   "metadata": {},
   "outputs": [],
   "source": [
    "A=\"https://www.lakeheadu.ca/programs/undergraduate-programs/computer-science/node/1110\"\n",
    "B=\"https://www.lakeheadu.ca/programs/undergraduate-programs/\"\n",
    "C=\"Undergraduate Program\"\n",
    "D=\"Computer Science\""
   ]
  },
  {
   "cell_type": "code",
   "execution_count": 2,
   "id": "bda0f602",
   "metadata": {},
   "outputs": [],
   "source": [
    "import requests\n",
    "import csv\n",
    "from bs4 import BeautifulSoup"
   ]
  },
  {
   "cell_type": "code",
   "execution_count": 3,
   "id": "89e69f2c",
   "metadata": {},
   "outputs": [
    {
     "name": "stdout",
     "output_type": "stream",
     "text": [
      "<Response [200]>\n"
     ]
    }
   ],
   "source": [
    "response=requests.get(A)\n",
    "print(response)"
   ]
  },
  {
   "cell_type": "code",
   "execution_count": null,
   "id": "4adc0415",
   "metadata": {},
   "outputs": [
    {
     "name": "stdout",
     "output_type": "stream",
     "text": [
      "LakeheadU.ca\n"
     ]
    }
   ],
   "source": [
    "response=requests.get(A)\n",
    "if response.status_code==200:\n",
    "    soup=BeautifulSoup(response.text,'html.parser')\n",
    "    strip=soup.find_all('div',class_=\"region region-top-bar\")\n",
    "    for strips in strip:\n",
    "        link=strips.find_all('a')\n",
    "        for links in link:\n",
    "            href=links.get('href')\n",
    "            links=\"https://www.lakeheadu.ca/\"+href\n",
    "            print(links)"
   ]
  },
  {
   "cell_type": "code",
   "execution_count": 13,
   "id": "5ff73b60",
   "metadata": {},
   "outputs": [
    {
     "name": "stdout",
     "output_type": "stream",
     "text": [
      "LakeheadU.ca\n"
     ]
    }
   ],
   "source": [
    "response=requests.get(A)\n",
    "if response.status_code==200:\n",
    "    soup=BeautifulSoup(response.text,'html.parser')\n",
    "    strip=soup.find_all('div',class_=\"region region-top-bar\")\n",
    "    for strips in strip:\n",
    "        link=strips.find('a')\n",
    "        print(link.text)"
   ]
  },
  {
   "cell_type": "code",
   "execution_count": 22,
   "id": "5fb5d260",
   "metadata": {},
   "outputs": [
    {
     "name": "stdout",
     "output_type": "stream",
     "text": [
      "\n",
      "StudentsFaculty & StaffAlumniProgramsExpandLearn More About our undergraduate programsUndergraduate Programs\n",
      "Graduate Programs\n",
      "Academic Departments\n",
      "Choosing A Program\n",
      "Faculties\n",
      "Lakehead-Georgian\n",
      "Continuing Education and Professional Development\n",
      "Other Programs & Studies\n",
      "AdmissionsExpandTop 10 Reasons to Choose LakeheadFuture Canadian Students\n",
      "Top 10 Reasons to Choose Lakehead\n",
      "New Students\n",
      "Undergraduate Admission Requirements\n",
      "Graduate Admissions Requirements\n",
      "English Language Centre\n",
      "How to Apply\n",
      "Check My Application Status\n",
      "Scholarships, Awards & Loans\n",
      "Student Central\n",
      "Tuition & Fees\n",
      "Campus Tours\n",
      "Future Student Events\n",
      "Upcoming School Visits\n",
      "Viewbooks\n",
      "School & Educator's Resources\n",
      "Best Foot Forward\n",
      "The Business Fundamentals Integrated Pathway (BFIP)\n",
      "Lakehead University and Confederation College - Joint Admissions\n",
      "Campus LifeExpandVirtual TourExplore our campusesDiscover Lakehead\n",
      "City of Thunder Bay\n",
      "City of Orillia\n",
      "Residence & Housing\n",
      "Food and Conference Services\n",
      "Getting Involved\n",
      "Athletics & Recreation\n",
      "Student Supports\n",
      "Life After Lakehead: Careers\n",
      "IndigenousExpandEventsSee our calendarIndigenous Programs\n",
      "Truth and Reconciliation\n",
      "Orange Shirts & Enamel Pins\n",
      "OpenText Indigenous Internship Program\n",
      "Indigenous Initiatives - Orillia\n",
      "Summer Indigenous Institute\n",
      "Indigenous Student Services Centre - Thunder Bay\n",
      "Third Party Sponsorship\n",
      "Indigenous Self-Identification\n",
      "Niijii Indigenous Mentorship\n",
      "Undergraduate Recruitment & Outreach\n",
      "Global Indigenous Speakers Series\n",
      "Indigenous Research & Partnership Awards\n",
      "Indigenous Content Requirement\n",
      "Events\n",
      "News\n",
      "Staff\n",
      "InternationalExpandFuture StudentsBecoming a Lakehead StudentApplying to Lakehead\n",
      "Future International Students\n",
      "Newly Accepted International Students\n",
      "Current International Students\n",
      "English Language Centre\n",
      "Global Engagement & Study Abroad\n",
      "Agents & Partners\n",
      "Student Voices\n",
      "Publications\n",
      "Contact Us\n",
      "\n",
      "\n",
      "\n",
      "\n",
      "\n",
      "\n",
      "\n",
      "\n",
      "\n",
      "\n",
      "\n",
      "Research & InnovationExpandIngenuityLearn about our programs & servicesVice-President Research and Innovation\n",
      "Undergraduate Research at Lakehead\n",
      "Who Can Help Me?\n",
      "About Research at Lakehead\n",
      "Research Services\n",
      "Ethics & Research Integrity\n",
      "Innovation, Partnerships and Economic Development (IPED)\n",
      "Ingenuity - Business Incubator\n",
      "Businesses & Community\n",
      "Research Centres and Institutes\n",
      "Analytical Services and Laboratories\n",
      "Forms\n",
      "Policies & Procedures\n",
      "Research and Innovation Week\n",
      "Romeo Research Portal\n",
      "AboutExpandCampus ConnectionRead the latest News, Stories, and EventsAccessibility\n",
      "Campus Connection (News & Events)\n",
      "COVID-19 Information\n",
      "Institutional Rankings\n",
      "Lakehead Orillia\n",
      "Lakehead Thunder Bay\n",
      "Lakehead-Georgian\n",
      "Office of the President\n",
      "Our Brand\n",
      "Social Media Directory\n",
      "Sustainability\n",
      "Toronto Office\n",
      "University Governance\n",
      "University Policies and Procedures\n",
      "Programs\n",
      "\n",
      "Undergraduate Programs\n",
      "Graduate Programs\n",
      "\n",
      "Academic Departments\n",
      "\n",
      "Choosing A Program\n",
      "Faculties\n",
      "\n",
      "Lakehead-Georgian\n",
      "Continuing Education and Professional Development\n",
      "Other Programs & Studies\n",
      "\n",
      "\n",
      "\n",
      " \n",
      "\n",
      "Computer Science \n",
      "\n",
      " \n",
      "\n",
      "Programs\n",
      "\n",
      "Undergraduate Programs\n",
      "Graduate Programs\n",
      "\n",
      "Academic Departments\n",
      "\n",
      "Choosing A Program\n",
      "Faculties\n",
      "\n",
      "Lakehead-Georgian\n",
      "Continuing Education and Professional Development\n",
      "Other Programs & Studies\n",
      "\n",
      "\n",
      "\n",
      " \n"
     ]
    }
   ],
   "source": [
    "#class=\"block block-lu-blocks\"\n",
    "response=requests.get(A)\n",
    "if response.status_code==200:\n",
    "    soup=BeautifulSoup(response.text,'html.parser')\n",
    "    strip=soup.find_all('div',class_=\"block block-lu-blocks\")\n",
    "    for strips in strip:\n",
    "        link=strips.find('div')\n",
    "        j=link.text\n",
    "        print(link.text)"
   ]
  },
  {
   "cell_type": "code",
   "execution_count": 24,
   "id": "4cfd5d47",
   "metadata": {},
   "outputs": [
    {
     "name": "stdout",
     "output_type": "stream",
     "text": [
      "Computer science plays a leading role in modern society, shaping our abilities and our future. From streaming music to planning a mission to Mars, the application of computer science offers innovative approaches to new challenges.\n",
      "Think big as you explore the world of computer science while engaging in one of two focused program streams in Business or Science. The Business Focus provides a path to the Entrepreneurship Certificate from the Faculty of Business, whereas the Science Focus emphasizes Science and Environmental Science electives.\n",
      "Experience high-tech labs and classrooms, access to a 240-core high performance computer Linux cluster, a stunning 3-D virtual reality lab, and learn about the latest advances in game programming, mobile computing, health informatics applications, big data, and cloud computing.\n",
      "It’s easy to transfer to Lakehead. Our pathway and general transfer policies are designed to help you maximize your credits from your current or previous studies at either college or university – or even both.  \n",
      "There are a number of ways to transfer to Lakehead. Let us help you achieve your degree completion goals. For more information regarding specific admission requirements from college or university, check out the “Admissions Requirement” tab above and select your most recent level of study.\n",
      " \n",
      "To determine your general admission requirements, select one of the definitions below:\n",
      "*Higher averages may be required for admission to programs in which the demand for places by qualified applicants exceeds the supply of available spaces.**Admission averages are calculated using the top 6 Grade 12 U or M courses.  \n",
      "*Higher averages may be required for admission to programs in which the demand for places by qualified applicants exceeds the supply of available spaces.\n",
      "Note: Meeting the minimum admission requirements is not a guarantee of admission.\n",
      "College transfer applicants who are applying to a program that does not have a college transfer pathway are eligible for admission consideration if they have:\n"
     ]
    }
   ],
   "source": [
    "#class=\"field field-name-body field-type-text-with-summary field-label-hidden\"\n",
    "response=requests.get(A)\n",
    "if response.status_code==200:\n",
    "    soup=BeautifulSoup(response.text,'html.parser')\n",
    "    strip=soup.find_all('div',class_=\"field field-name-body field-type-text-with-summary field-label-hidden\")\n",
    "    for strips in strip:\n",
    "        link=strips.find_all('p')\n",
    "        for links in link:\n",
    "            para=links.text\n",
    "            print(links.text)"
   ]
  },
  {
   "cell_type": "code",
   "execution_count": 25,
   "id": "d4917688",
   "metadata": {},
   "outputs": [
    {
     "name": "stdout",
     "output_type": "stream",
     "text": [
      "Welcome\n",
      "Admission Requirements\n",
      "First Year at a Glance\n",
      "Enrich Your Education\n",
      "Tuition & Fees\n",
      "Refer to Admission Requirements by Country\n",
      "here\n",
      "here\n",
      "here\n",
      "co-operative education program\n",
      "Student Fees Information\n",
      "Please click here for more information about UHIP \n",
      "Click to display ancillary fee breakdown\n",
      "Click to display ancillary fee breakdown\n",
      "Schedule of Fees for Services, Co-op, and Course-Related Fees\n",
      "Please click here for more information about UHIP \n",
      "Click to display ancillary fee breakdown\n",
      "Click to display ancillary fee breakdown\n",
      "Click to display ancillary fee breakdown\n",
      "www.lusu.ca\n",
      "www.lusu.ca\n",
      "Schedule of Fees for Services, Co-op, and Course-Related Fees\n",
      "Please click here for more information about UHIP \n",
      "Click to display ancillary fee breakdown\n",
      "Click to display ancillary fee breakdown\n",
      "Schedule of Fees for Services, Co-op, and Course-Related Fees\n",
      "www.lusu.ca\n",
      "www.lusu.ca\n",
      "www.lusu.ca\n",
      "www.lusu.ca\n",
      "www.lusu.ca\n",
      "www.lusu.ca\n",
      "Apply Now\n",
      "Book a Tour\n",
      "Request a Viewbook\n",
      "Open\n",
      "Computer Science\n",
      "Science and Environmental Studies\n",
      "Honours Bachelor of Science (Computer Science Major) TB\n",
      "\n",
      "Bachelor of Science (Computer Science Major) TB\n",
      "Honours Bachelor of Science (Computer Science Major) - Transfer - Confederation College TB\n",
      "Honours Bachelor of Science in Computer Science - Transfer - Georgian College Computer Programmer Diploma TBO\n",
      "Honours Bachelor Science (Computer Science Major) (Lakehead/Georgian Partnership) O\n",
      "Minor in Computer Science TB\n",
      "Specialization in Game Programming TB\n",
      "Specialization in Health Informatics TB\n",
      "\n",
      "Learn More\n",
      "\n",
      "Department of\n",
      "Computer Science\n",
      "\n"
     ]
    }
   ],
   "source": [
    "#class=\"block block-system\"\n",
    "response=requests.get(A)\n",
    "if response.status_code==200:\n",
    "    soup=BeautifulSoup(response.text,'html.parser')\n",
    "    strip=soup.find_all('div',class_=\"block block-system\")\n",
    "    for strips in strip:\n",
    "        link=strips.find_all('a')\n",
    "        for links in link:\n",
    "            g=links.text\n",
    "            print(links.text)"
   ]
  },
  {
   "cell_type": "code",
   "execution_count": 26,
   "id": "ed8efe4b",
   "metadata": {},
   "outputs": [
    {
     "name": "stdout",
     "output_type": "stream",
     "text": [
      "Winter 2024 (January)\n",
      "Closed\n",
      "Fall 2024 (September)\n",
      "Open\n"
     ]
    }
   ],
   "source": [
    "#class=\"availability\"\n",
    "response=requests.get(A)\n",
    "if response.status_code==200:\n",
    "    soup=BeautifulSoup(response.text,'html.parser')\n",
    "    strip=soup.find_all('div',class_=\"availability\")\n",
    "    for strips in strip:\n",
    "        link=strips.find_all('p')\n",
    "        for links in link:\n",
    "            h=links.text\n",
    "            print(links.text)"
   ]
  },
  {
   "cell_type": "code",
   "execution_count": 18,
   "id": "81e13ba6",
   "metadata": {},
   "outputs": [
    {
     "name": "stdout",
     "output_type": "stream",
     "text": [
      "Winter 2024 (January)\n"
     ]
    }
   ],
   "source": [
    "#class=\"availability\"\n",
    "response=requests.get(A)\n",
    "if response.status_code==200:\n",
    "    soup=BeautifulSoup(response.text,'html.parser')\n",
    "    strip=soup.find_all('p',class_=\"intake\")\n",
    "    print(strip[0].text)"
   ]
  },
  {
   "cell_type": "code",
   "execution_count": 19,
   "id": "011d275f",
   "metadata": {},
   "outputs": [
    {
     "name": "stdout",
     "output_type": "stream",
     "text": [
      "Thunder Bay, Orillia\n"
     ]
    }
   ],
   "source": [
    "#class=\"field-item even\"\n",
    "response=requests.get(A)\n",
    "if response.status_code==200:\n",
    "    soup=BeautifulSoup(response.text,'html.parser')\n",
    "    strip=soup.find_all('div',class_=\"textformatter-list\")\n",
    "    print(strip[0].text)"
   ]
  },
  {
   "cell_type": "code",
   "execution_count": 20,
   "id": "ac495d52",
   "metadata": {},
   "outputs": [
    {
     "name": "stdout",
     "output_type": "stream",
     "text": [
      "$7,052.25\n",
      "$6,943.60\n",
      "$6,903.04\n",
      "$6,386.03\n",
      "$29,567.74\n",
      "$29,101.59\n",
      "$29,101.59\n",
      "$28,305.92\n",
      "$7,094.83\n",
      "$6,986.18\n",
      "$6,945.62\n",
      "$6,428.61\n",
      "$29,610.32\n",
      "$29,144.17\n",
      "$28,348.50\n",
      "$28,348.50\n",
      "$7,383.95\n",
      "$7,275.30\n",
      "$7,234.74\n",
      "$6,717.73\n",
      "$29,899.44\n",
      "$29,433.29\n",
      "$29,433.29\n",
      "$28,637.62\n"
     ]
    }
   ],
   "source": [
    "lst=[]\n",
    "if response.status_code==200:\n",
    "    soup=BeautifulSoup(response.text,'html.parser')\n",
    "    strip=soup.find_all('div',class_=\"field field-name-field-fees-total field-type-computed field-label-hidden\")\n",
    "    for strips in strip:\n",
    "        link=strips.find('div',class_=\"field-items\")\n",
    "        for links in link:\n",
    "            k=link.text\n",
    "            print(k)"
   ]
  },
  {
   "cell_type": "code",
   "execution_count": 28,
   "id": "470fefce",
   "metadata": {},
   "outputs": [],
   "source": [
    "data=[\n",
    "\n",
    "[A],\n",
    "\n",
    "[B],\n",
    "\n",
    "[C],\n",
    "\n",
    "[D],\n",
    "\n",
    "['links'] or None,\n",
    "\n",
    "[h] or None,\n",
    "\n",
    "[g] or None,\n",
    "\n",
    "[para] or None,\n",
    "\n",
    "[k] or None\n",
    "]\n",
    "\n",
    "file=r\"NResult.csv\"\n",
    "\n",
    "max_length=max(len(row) for row in data)\n",
    "padded_data=[ row+['']*(max_length-len(row)) for row in data]\n",
    "transposed_data=list(map(list, zip(*padded_data)))\n",
    "with open(file,mode='a', newline=\"\",encoding='utf-8') as file:\n",
    "    writer=csv.writer(file)\n",
    "    writer.writerows (transposed_data)"
   ]
  },
  {
   "cell_type": "code",
   "execution_count": null,
   "id": "77529a26",
   "metadata": {},
   "outputs": [],
   "source": []
  }
 ],
 "metadata": {
  "kernelspec": {
   "display_name": "Python 3 (ipykernel)",
   "language": "python",
   "name": "python3"
  },
  "language_info": {
   "codemirror_mode": {
    "name": "ipython",
    "version": 3
   },
   "file_extension": ".py",
   "mimetype": "text/x-python",
   "name": "python",
   "nbconvert_exporter": "python",
   "pygments_lexer": "ipython3",
   "version": "3.11.5"
  }
 },
 "nbformat": 4,
 "nbformat_minor": 5
}
