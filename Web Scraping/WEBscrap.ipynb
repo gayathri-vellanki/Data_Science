{
 "cells": [
  {
   "cell_type": "code",
   "execution_count": 1,
   "id": "08750ed9",
   "metadata": {},
   "outputs": [],
   "source": [
    "A=\"https://www.lakeheadu.ca/programs/undergraduate-programs/computer-science/node/1110\"\n",
    "B=\"https://www.lakeheadu.ca/programs/undergraduate-programs/\"\n",
    "C=\"Undergraduate Program\"\n",
    "D=\"Computer Science\""
   ]
  },
  {
   "cell_type": "code",
   "execution_count": 2,
   "id": "ae9d7e29",
   "metadata": {},
   "outputs": [],
   "source": [
    "import requests\n",
    "import csv\n",
    "from bs4 import BeautifulSoup"
   ]
  },
  {
   "cell_type": "code",
   "execution_count": 3,
   "id": "a1b7cf52",
   "metadata": {},
   "outputs": [
    {
     "name": "stdout",
     "output_type": "stream",
     "text": [
      "<Response [200]>\n"
     ]
    }
   ],
   "source": [
    "response=requests.get(A)\n",
    "print(response)"
   ]
  },
  {
   "cell_type": "code",
   "execution_count": 36,
   "id": "c227cee1",
   "metadata": {},
   "outputs": [
    {
     "name": "stdout",
     "output_type": "stream",
     "text": [
      "Successful\n"
     ]
    }
   ],
   "source": [
    "response=requests.get(A)\n",
    "if response.status_code==200:\n",
    "    soup=BeautifulSoup(response.text,'html.parser')\n",
    "    strip=soup.find_all('div',class_=\"region region-top-bar\")\n",
    "    for strips in strip:\n",
    "        link=strips.find_all('a')\n",
    "        for links in link:\n",
    "            href=links.get('href')\n",
    "            slin=\"https://www.lakeheadu.ca/\"+href\n",
    "            #class=\"block block-lu-blocks\"\n",
    "            response=requests.get(A)\n",
    "            if response.status_code==200:\n",
    "                soup=BeautifulSoup(response.text,'html.parser')\n",
    "                strip=soup.find_all('div',class_=\"block block-lu-blocks\")\n",
    "                for strips in strip:\n",
    "                    link=strips.find('div')\n",
    "                    j=link.text\n",
    "                strip=soup.find_all('div',class_=\"field field-name-body field-type-text-with-summary field-label-hidden\")\n",
    "                for strips in strip:\n",
    "                    link=strips.find_all('p')\n",
    "                for links in link:\n",
    "                    para=links.text\n",
    "                strip=soup.find_all('div',class_=\"block block-system\")\n",
    "                for strips in strip:\n",
    "                    link=strips.find_all('a')\n",
    "                    for links in link:\n",
    "                        g=links.text\n",
    "                strip=soup.find_all('div',class_=\"field field-name-field-fees-total field-type-computed field-label-hidden\")\n",
    "                for strips in strip:\n",
    "                    link=strips.find('div',class_=\"field-items\")\n",
    "                    for links in link:\n",
    "                        k=link.text\n",
    "                strip=soup.find_all('div',class_=\"availability\")\n",
    "                for strips in strip:\n",
    "                    link=strips.find_all('p')\n",
    "                    for links in link:\n",
    "                        h=links.text\n",
    "                strip=soup.find_all('div',class_=\"textformatter-list\")\n",
    "                m=strip[0].text\n",
    "                strip=soup.find_all('p',class_=\"intake\")\n",
    "                l=strip[0].text\n",
    "                data=[[A],[B],[C],[D],[slin],\n",
    "                      [para] or None,[k],\n",
    "                      [m],[l]\n",
    "                     ]\n",
    "                file=r\"NResult.csv\"\n",
    "                max_length=max(len(row) for row in data)\n",
    "                padded_data=[ row+['']*(max_length-len(row)) for row in data]\n",
    "                transposed_data=list(map(list, zip(*padded_data)))\n",
    "                with open(file,mode='a', newline=\"\",encoding='utf-8') as file:\n",
    "                    writer=csv.writer(file)\n",
    "                    writer.writerows (transposed_data)\n",
    "print(\"Successful\")"
   ]
  },
  {
   "cell_type": "code",
   "execution_count": null,
   "id": "d84fd5b4",
   "metadata": {},
   "outputs": [],
   "source": []
  }
 ],
 "metadata": {
  "kernelspec": {
   "display_name": "Python 3 (ipykernel)",
   "language": "python",
   "name": "python3"
  },
  "language_info": {
   "codemirror_mode": {
    "name": "ipython",
    "version": 3
   },
   "file_extension": ".py",
   "mimetype": "text/x-python",
   "name": "python",
   "nbconvert_exporter": "python",
   "pygments_lexer": "ipython3",
   "version": "3.11.5"
  }
 },
 "nbformat": 4,
 "nbformat_minor": 5
}
